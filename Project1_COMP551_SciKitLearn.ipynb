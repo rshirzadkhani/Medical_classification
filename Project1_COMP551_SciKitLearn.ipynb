{
  "nbformat": 4,
  "nbformat_minor": 0,
  "metadata": {
    "colab": {
      "name": "A1_experiments.ipynb",
      "provenance": []
    },
    "kernelspec": {
      "name": "python3",
      "display_name": "Python 3"
    },
    "language_info": {
      "name": "python"
    }
  },
  "cells": [
    {
      "cell_type": "code",
      "execution_count": null,
      "metadata": {
        "id": "BSk51uMch6Kr"
      },
      "outputs": [],
      "source": [
        "import pandas as pd\n",
        "import numpy as np\n",
        "from scipy.io import arff                             \n",
        "import matplotlib.pyplot as plt\n",
        "\n",
        "# hepatitis data load and convert to array\n",
        "data_hepatitis=pd.read_csv(\"http://archive.ics.uci.edu/ml/machine-learning-databases/hepatitis/hepatitis.data\" , header=None)\n",
        "data_hepatitis=data_hepatitis.to_numpy()\n",
        "\n",
        "# diabeties load data and convert to array\n",
        "data_diabetes = arff.loadarff('messidor_features.arff')\n",
        "data_diabetes = pd.DataFrame(data_diabetes[0])\n",
        "data_diabetes=data_diabetes.to_numpy()"
      ]
    },
    {
      "cell_type": "code",
      "source": [
        "class cleaning:\n",
        "\n",
        "    def __init__(self,data):\n",
        "        self.data=data\n",
        "        return\n",
        "    \n",
        "    def type_data_miss (self,tp=1):\n",
        "        self.tp=tp\n",
        "        if tp==1:\n",
        "            self.missing=np.equal(self.data,\"?\")\n",
        "            \n",
        "        elif tp==2:\n",
        "            self.missing=np.equal(self.data[:,0],0)\n",
        "            self.missing=np.transpose([np.transpose(self.missing)]*20)\n",
        "        return self\n",
        "    \n",
        "    \n",
        "    def column_clean(self,trsh=1):\n",
        "        miss=[]\n",
        "        for i in range(self.data.shape[1]):\n",
        "            num_non=sum(self.missing[:,i])\n",
        "            if num_non>trsh*self.data.shape[0]:\n",
        "                miss.append(i)\n",
        "        self.data=np.delete(self.data, miss, 1)\n",
        "        self.missing=np.delete(self.missing, miss, 1)\n",
        "        return self\n",
        "    \n",
        "    \n",
        "    def row_clean(self,trsh=1):\n",
        "        miss=[]\n",
        "        for i in range(self.data.shape[0]):\n",
        "            num_non=sum(self.missing[i,:])\n",
        "            if num_non>trsh*self.data.shape[1]:\n",
        "                miss.append(i)\n",
        "        self.data=np.delete(self.data, miss, 0)\n",
        "        self.missing=np.delete(self.missing, miss, 0)\n",
        "        return self\n",
        "\n",
        "    def data_derivation(self):\n",
        "        perfect_data_rindex=[]\n",
        "        incomplete_realdata_index=[]\n",
        "        incomplete_predictdata_index=[]\n",
        "        \n",
        "        for i in range(self.data.shape[0]):\n",
        "            num_non=sum(self.missing[i,:])\n",
        "            if num_non==0:\n",
        "                perfect_data_rindex.append(i)\n",
        "            else:\n",
        "                incomplete_realdata_index.append([])\n",
        "                incomplete_predictdata_index.append([])\n",
        "                for j in range(self.data.shape[1]):\n",
        "                    if self.missing[i,j]:\n",
        "                        incomplete_predictdata_index[len(incomplete_realdata_index)-1].append([i,j])\n",
        "                    else:\n",
        "                        incomplete_realdata_index[len(incomplete_realdata_index)-1].append([i,j])\n",
        "\n",
        "        for i in range(len(incomplete_realdata_index)):\n",
        "            dist_predict=[]\n",
        "            for j in perfect_data_rindex:\n",
        "                dist=0\n",
        "                for k in range(len(incomplete_realdata_index[i])):\n",
        "                    dist=dist+(float(self.data[j,incomplete_realdata_index[i][k][1]])-float(self.data[incomplete_realdata_index[i][k][0],incomplete_realdata_index[i][k][1]]))**2\n",
        "                dist_predict.append(dist)\n",
        "            m_list=min(dist_predict)\n",
        "            ind=dist_predict.index(m_list)\n",
        "            \n",
        "            for l in range(len(incomplete_predictdata_index[i])):\n",
        "                self.data[incomplete_predictdata_index[i][l][0],incomplete_predictdata_index[i][l][1]]=self.data[perfect_data_rindex[ind],incomplete_predictdata_index[i][l][1]]\n",
        "        return self\n",
        "\n",
        "    \n",
        "    def best_correlation(self,num_f):\n",
        "        variance=np.var(self.data.astype(float) , axis=0)\n",
        "        columns=np.arange(self.data.shape[1])\n",
        "        for i in range(0,len(variance)):\n",
        "            if variance[i]==0:\n",
        "                self.data=np.delete(self.data, columns[i], 1)\n",
        "        data_df=pd.DataFrame(self.data).astype(float)\n",
        "        data_correlation=data_df.corr(method='pearson').abs()\n",
        "        if self.tp==1:\n",
        "            clm=0\n",
        "        else:\n",
        "            clm=data_df.shape[1]-1\n",
        "        target_correlation=data_correlation[clm]\n",
        "        target_correlation=target_correlation.sort_values(ascending=False)\n",
        "        data_indices=target_correlation.index\n",
        "        cleaning_indices=[]\n",
        "        cleaning_indices.append([data_indices[1],target_correlation[data_indices[1]]])\n",
        "        \n",
        "        for f in range(1,num_f):\n",
        "            corr=0\n",
        "            for i in range(len(cleaning_indices)+1,len(target_correlation)):\n",
        "                c_test=1\n",
        "                aa=target_correlation[data_indices[i]]\n",
        "                for j in range(len(cleaning_indices)):\n",
        "                    dc=data_correlation[data_indices[i]][cleaning_indices[j][0]]\n",
        "                    c_test=c_test*(1-dc)\n",
        "                c_test=c_test*aa\n",
        "                if c_test>corr:\n",
        "                    corr=c_test\n",
        "                    ind=data_indices[i]\n",
        "            cleaning_indices.append([ind,corr])\n",
        "        df=pd.DataFrame(cleaning_indices)\n",
        "        df=df.sort_values(by=[1])\n",
        "        self.data=np.delete(self.data, df[0][0:data_indices.size-num_f], 1)\n",
        "        return self\n",
        "    \n",
        "    def give_data(self):\n",
        "        for i in range(self.data.shape[0]):\n",
        "            for j in range(self.data.shape[1]):\n",
        "                self.data[i][j]=float(self.data[i][j])\n",
        "        return self.data\n",
        "\n",
        "def normalization( x_t):\n",
        "    for i in range(x_t.shape[1]):\n",
        "        max_f=max(x_t[:,i])\n",
        "        x_t[:,i]=x_t[:,i]/max_f\n",
        "    return x_t\n",
        "       \n",
        "# cleaning hepatitis data\n",
        "num_features_hpt=10                                                             # specifies number of features we want to have after cleaning data\n",
        "hepatitis=cleaning(data_hepatitis)\n",
        "data_hpt=hepatitis.type_data_miss(tp=1).column_clean(trsh=0.1).row_clean(trsh=0.1).data_derivation().give_data()\n",
        "data1=pd.DataFrame(data_hpt)\n",
        "aaaa=data1.cov()\n",
        "y_hpt, x_hpt = data_hpt[:,0].astype(int), data_hpt[:,1:num_features_hpt]\n",
        "y_hpt=y_hpt-1\n",
        "(N_hpt,D_hpt), C_hpt = x_hpt.shape, np.max(y_hpt)+1\n",
        "np.random.seed(1674)\n",
        "inds_hpt = np.random.permutation(N_hpt)\n",
        "x_hpt=normalization(x_hpt)\n",
        "x_train_hpt, y_train_hpt = x_hpt[inds_hpt[:100]], y_hpt[inds_hpt[:100]]\n",
        "x_test_hpt, y_test_hpt = x_hpt[inds_hpt[100:]], y_hpt[inds_hpt[100:]]\n",
        "# print(f'hepatitis instances (N) \\t {N_hpt} \\n hepatitis features (D) \\t {D_hpt} \\n hepatitis classes (C) \\t {C_hpt}')\n",
        "\n",
        "# cleaning diabet data\n",
        "num_features_dbt=10                                                             # specifies number of features we want to have after cleaning data\n",
        "diabet=cleaning(data_diabetes)\n",
        "data_dbt=diabet.type_data_miss(tp=2).row_clean(trsh=0.1).best_correlation(num_f=num_features_dbt).give_data()\n",
        "\n",
        "# creating test and train set for diabetes\n",
        "y_dbt, x_dbt = data_dbt[:,num_features_dbt-1].astype(int), data_dbt[:,0:num_features_dbt-1]\n",
        "(N_dbt,D_dbt), C_dbt = x_dbt.shape, np.max(y_dbt)+1 \n",
        "np.random.seed(1334)\n",
        "inds_dbt = np.random.permutation(N_dbt)                                                     \n",
        "x_dbt=normalization(x_dbt)\n",
        "\n",
        "x_train_dbt, y_train_dbt = x_dbt[inds_dbt[:770]], y_dbt[inds_dbt[:770]]\n",
        "x_test_dbt, y_test_dbt = x_dbt[inds_dbt[770:]], y_dbt[inds_dbt[770:]]\n",
        "# print(f'diabetes instances (N) \\t {N_dbt} \\n diabetes features (D) \\t {D_dbt} \\n diabetes classes (C) \\t {C_dbt}')\n",
        "\n",
        "# %%\n",
        "\n",
        "euclidean = lambda x1, x2: np.sqrt(np.float32(np.sum((x1 - x2)**2,axis = -1)))\n",
        "manhattan = lambda x1, x2: np.sum(np.abs(x1 - x2), axis=-1)\n",
        "minkovski = lambda x1, x2: np.sum(np.abs(x1 - x2), axis=-1)"
      ],
      "metadata": {
        "id": "ICo6P6e7iy37"
      },
      "execution_count": null,
      "outputs": []
    },
    {
      "cell_type": "code",
      "source": [
        "def accuracy(x_test, y_test, y_pred):\n",
        "  accuracy = np.sum(y_pred == y_test)/y_test.shape[0]\n",
        "  TP1=np.where(y_test==1 )\n",
        "  TP2=np.where(y_pred == y_test)\n",
        "  TP=np.intersect1d(TP1,TP2)\n",
        "  FN1=np.where(y_test==1 )\n",
        "  FN2=np.where(y_pred==0 )\n",
        "  FN=np.intersect1d(FN1,FN2)\n",
        "  FP1=np.where(y_test==0 )\n",
        "  FP2=np.where(y_pred==1 )\n",
        "  FP=np.intersect1d(FP1,FP2)\n",
        "  TN1=np.where(y_test==0 )\n",
        "  TN2=np.where(y_pred==0 )\n",
        "  TN=np.intersect1d(TN1,TN2)\n",
        "  recall = TP.shape[0]/(FN.shape[0]+TP.shape[0]+0.001)\n",
        "  precision=TP.shape[0]/(FP.shape[0]+TP.shape[0]+0.001)\n",
        "  Selectivity=TN.shape[0]/(TN.shape[0]+FP.shape[0]+0.001)\n",
        "  N_predictive_v=TN.shape[0]/(TN.shape[0]+FN.shape[0]+0.001)\n",
        "  return accuracy,recall,precision,Selectivity,N_predictive_v"
      ],
      "metadata": {
        "id": "AumiLmJRUF4J"
      },
      "execution_count": null,
      "outputs": []
    },
    {
      "cell_type": "code",
      "source": [
        "# KNN\n",
        "\n",
        "from sklearn.neighbors import KNeighborsClassifier\n",
        "from sklearn.metrics import accuracy_score\n",
        "\n",
        "# heptatitis\n",
        "for i in range(1, 2):\n",
        "  model = KNeighborsClassifier(n_neighbors=i)\n",
        "  model.fit(x_train_hpt, y_train_hpt)\n",
        "  y_pred_hpt = model.predict(x_test_hpt)\n",
        "  acc_hpt,recall_hpt,precision_hpt,Selectivity_hpt,N_predictive_v_hpt = accuracy(x_test_hpt, y_test_hpt, y_pred_hpt)\n",
        "  print(\"K =\", i)\n",
        "  print(f'KNN accuracy for hepatitis is {acc_hpt*100:.1f}.')\n",
        "  print(f'KNN recall for hepatitis is {recall_hpt*100:.1f}.')\n",
        "  print(f'KNN precision for hepatitis is {precision_hpt*100:.1f}.')\n",
        "  print(f'KNN Selectivity for hepatitis is {Selectivity_hpt*100:.1f}.')\n",
        "  print(f'KNN Negative predictive value for hepatitis is {N_predictive_v_hpt*100:.1f}.')\n",
        "\n",
        "knn_acc_hpt = []\n",
        "knn_k = []\n",
        "for i in range(1, 16):\n",
        "  knn_k.append(i)\n",
        "  m = KNeighborsClassifier(n_neighbors=i)\n",
        "  m.fit(x_train_hpt, y_train_hpt)\n",
        "  yph = m.predict(x_test_hpt)\n",
        "  acc,_,_,_,_ = accuracy(x_test_hpt, y_test_hpt, yph)\n",
        "  knn_acc_hpt.append(acc)\n",
        "\n",
        "print(knn_k, knn_acc_hpt)\n",
        "print()\n",
        "\n",
        "# diabetes\n",
        "for i in range(1, 2):\n",
        "  model2 = KNeighborsClassifier(n_neighbors=i)\n",
        "  model2.fit(x_train_dbt, y_train_dbt)\n",
        "  y_pred_dbt = model2.predict(x_test_dbt)\n",
        "  acc_dbt,recall_dbt,precision_dbt,Selectivity_dbt,N_predictive_v_dbt = accuracy(x_test_dbt, y_test_dbt, y_pred_dbt)\n",
        "  print(\"K =\", i)\n",
        "  print(f'KNN accuracy for diabetes is {acc_dbt*100:.1f}.')\n",
        "  print(f'KNN recall for diabetes is {recall_dbt*100:.1f}.')\n",
        "  print(f'KNN precision for diabetes is {precision_dbt*100:.1f}.')\n",
        "  print(f'KNN Selectivity for diabetes is {Selectivity_dbt*100:.1f}.')\n",
        "  print(f'KNN Negative predictive value for diabetes is {N_predictive_v_dbt*100:.1f}.')\n",
        "\n",
        "knn_acc_dbt = []\n",
        "for i in range(1, 16):\n",
        "  m2 = KNeighborsClassifier(n_neighbors=i)\n",
        "  m2.fit(x_train_dbt, y_train_dbt)\n",
        "  ypd = m2.predict(x_test_dbt)\n",
        "  acc,_,_,_,_ = accuracy(x_test_dbt, y_test_dbt, ypd)\n",
        "  knn_acc_dbt.append(acc)\n",
        "\n",
        "print(knn_k, knn_acc_dbt)"
      ],
      "metadata": {
        "colab": {
          "base_uri": "https://localhost:8080/"
        },
        "id": "v-PB66WhjFDo",
        "outputId": "da891b24-e0ea-4d0a-9855-f031cc1cfda4"
      },
      "execution_count": null,
      "outputs": [
        {
          "output_type": "stream",
          "name": "stdout",
          "text": [
            "K = 1\n",
            "KNN accuracy for hepatitis is 69.8.\n",
            "KNN recall for hepatitis is 80.0.\n",
            "KNN precision for hepatitis is 82.4.\n",
            "KNN Selectivity for hepatitis is 25.0.\n",
            "KNN Negative predictive value for hepatitis is 22.2.\n",
            "[1, 2, 3, 4, 5, 6, 7, 8, 9, 10, 11, 12, 13, 14, 15] [0.6976744186046512, 0.6046511627906976, 0.6511627906976745, 0.5813953488372093, 0.6976744186046512, 0.627906976744186, 0.6744186046511628, 0.627906976744186, 0.627906976744186, 0.6511627906976745, 0.6511627906976745, 0.6976744186046512, 0.6976744186046512, 0.6976744186046512, 0.6976744186046512]\n",
            "\n",
            "K = 1\n",
            "KNN accuracy for diabetes is 60.5.\n",
            "KNN recall for diabetes is 57.4.\n",
            "KNN precision for diabetes is 62.9.\n",
            "KNN Selectivity for diabetes is 63.7.\n",
            "KNN Negative predictive value for diabetes is 58.3.\n",
            "[1, 2, 3, 4, 5, 6, 7, 8, 9, 10, 11, 12, 13, 14, 15] [0.6047745358090185, 0.6047745358090185, 0.6127320954907162, 0.6206896551724138, 0.623342175066313, 0.6419098143236074, 0.6339522546419099, 0.6472148541114059, 0.6339522546419099, 0.6259946949602122, 0.6259946949602122, 0.6286472148541115, 0.6286472148541115, 0.6286472148541115, 0.6339522546419099]\n"
          ]
        }
      ]
    },
    {
      "cell_type": "code",
      "source": [
        "# Decision Tree\n",
        "\n",
        "from sklearn.tree import DecisionTreeClassifier\n",
        "\n",
        "# hepatitis\n",
        "model = DecisionTreeClassifier(criterion=\"gini\", max_depth=2)\n",
        "model.fit(x_train_hpt, y_train_hpt)\n",
        "y_pred_hpt = model.predict(x_test_hpt)\n",
        "acc_hpt,recall_hpt,precision_hpt,Selectivity_hpt,N_predictive_v_hpt = accuracy(x_test_hpt, y_test_hpt, y_pred_hpt)\n",
        "print(f'DT accuracy for hepatitis is {acc_hpt*100:.1f}.')\n",
        "print(f'DT recall for hepatitis is {recall_hpt*100:.1f}.')\n",
        "print(f'DT precision for hepatitis is {precision_hpt*100:.1f}.')\n",
        "print(f'DT Selectivity for hepatitis is {Selectivity_hpt*100:.1f}.')\n",
        "print(f'DT Negative predictive value for hepatitis is {N_predictive_v_hpt*100:.1f}.')\n",
        "\n",
        "dt_depth = []\n",
        "dt_acc_hpt = []\n",
        "for i in range(1, 16):\n",
        "  dt_depth.append(i)\n",
        "  m = DecisionTreeClassifier(max_depth=i)\n",
        "  m.fit(x_train_hpt, y_train_hpt)\n",
        "  yph = m.predict(x_test_hpt)\n",
        "  acc,_,_,_,_ = accuracy(x_test_hpt, y_test_hpt, yph)\n",
        "  dt_acc_hpt.append(acc)\n",
        "print(dt_depth, dt_acc_hpt)\n",
        "\n",
        "print()\n",
        "\n",
        "# diabetes\n",
        "model2 = DecisionTreeClassifier(criterion=\"gini\", max_depth=2)\n",
        "model2.fit(x_train_dbt, y_train_dbt)\n",
        "y_pred_dbt = model2.predict(x_test_dbt)\n",
        "acc_dbt,recall_dbt,precision_dbt,Selectivity_dbt,N_predictive_v_dbt = accuracy(x_test_dbt, y_test_dbt, y_pred_dbt)\n",
        "print(f'DT accuracy for diabetes is {acc_dbt*100:.1f}.')\n",
        "print(f'DT recall for diabetes is {recall_dbt*100:.1f}.')\n",
        "print(f'DT precision for diabetes is {precision_dbt*100:.1f}.')\n",
        "print(f'DT Selectivity for diabetes is {Selectivity_dbt*100:.1f}.')\n",
        "print(f'DT Negative predictive value for diabetes is {N_predictive_v_dbt*100:.1f}.')\n",
        "\n",
        "dt_acc_dbt = []\n",
        "for i in range(1, 16):\n",
        "  m2 = DecisionTreeClassifier(max_depth=i)\n",
        "  m2.fit(x_train_dbt, y_train_dbt)\n",
        "  ypd = m2.predict(x_test_dbt)\n",
        "  acc,_,_,_,_ = accuracy(x_test_dbt, y_test_dbt, ypd)\n",
        "  dt_acc_dbt.append(acc)\n",
        "print(dt_depth, dt_acc_dbt)\n"
      ],
      "metadata": {
        "colab": {
          "base_uri": "https://localhost:8080/"
        },
        "id": "BduqnBvqig9j",
        "outputId": "2f4d80bd-17e5-47ff-8ae6-177e6737efbe"
      },
      "execution_count": null,
      "outputs": [
        {
          "output_type": "stream",
          "name": "stdout",
          "text": [
            "DT accuracy for hepatitis is 65.1.\n",
            "DT recall for hepatitis is 68.6.\n",
            "DT precision for hepatitis is 85.7.\n",
            "DT Selectivity for hepatitis is 50.0.\n",
            "DT Negative predictive value for hepatitis is 26.7.\n",
            "[1, 2, 3, 4, 5, 6, 7, 8, 9, 10, 11, 12, 13, 14, 15] [0.813953488372093, 0.6511627906976745, 0.6744186046511628, 0.6976744186046512, 0.6976744186046512, 0.7441860465116279, 0.6744186046511628, 0.6744186046511628, 0.7209302325581395, 0.6744186046511628, 0.7441860465116279, 0.7674418604651163, 0.7441860465116279, 0.6976744186046512, 0.7209302325581395]\n",
            "\n",
            "DT accuracy for diabetes is 63.4.\n",
            "DT recall for diabetes is 44.6.\n",
            "DT precision for diabetes is 74.4.\n",
            "DT Selectivity for diabetes is 83.5.\n",
            "DT Negative predictive value for diabetes is 58.5.\n",
            "[1, 2, 3, 4, 5, 6, 7, 8, 9, 10, 11, 12, 13, 14, 15] [0.5915119363395226, 0.6339522546419099, 0.623342175066313, 0.6180371352785146, 0.623342175066313, 0.6312997347480106, 0.6339522546419099, 0.6074270557029178, 0.6445623342175066, 0.6551724137931034, 0.6259946949602122, 0.6339522546419099, 0.6551724137931034, 0.6312997347480106, 0.6180371352785146]\n"
          ]
        }
      ]
    },
    {
      "cell_type": "code",
      "source": [
        "from sklearn import tree\n",
        "tree.plot_tree(model)"
      ],
      "metadata": {
        "colab": {
          "base_uri": "https://localhost:8080/",
          "height": 369
        },
        "id": "aV7_XTcQxhX0",
        "outputId": "46b97436-e114-4a5f-dded-c5b68df67487"
      },
      "execution_count": null,
      "outputs": [
        {
          "output_type": "execute_result",
          "data": {
            "text/plain": [
              "[Text(0.5, 0.8333333333333334, 'X[5] <= 0.75\\ngini = 0.295\\nsamples = 100\\nvalue = [18, 82]'),\n",
              " Text(0.25, 0.5, 'X[0] <= 0.417\\ngini = 0.48\\nsamples = 35\\nvalue = [14, 21]'),\n",
              " Text(0.125, 0.16666666666666666, 'gini = 0.18\\nsamples = 10\\nvalue = [1, 9]'),\n",
              " Text(0.375, 0.16666666666666666, 'gini = 0.499\\nsamples = 25\\nvalue = [13, 12]'),\n",
              " Text(0.75, 0.5, 'X[0] <= 0.468\\ngini = 0.116\\nsamples = 65\\nvalue = [4, 61]'),\n",
              " Text(0.625, 0.16666666666666666, 'gini = 0.0\\nsamples = 27\\nvalue = [0, 27]'),\n",
              " Text(0.875, 0.16666666666666666, 'gini = 0.188\\nsamples = 38\\nvalue = [4, 34]')]"
            ]
          },
          "metadata": {},
          "execution_count": 7
        },
        {
          "output_type": "display_data",
          "data": {
            "image/png": "[encoded data removed]",
            "text/plain": [
              "<Figure size 432x288 with 1 Axes>"
            ]
          },
          "metadata": {
            "needs_background": "light"
          }
        }
      ]
    },
    {
      "cell_type": "code",
      "source": [
        "tree.plot_tree(model2)"
      ],
      "metadata": {
        "colab": {
          "base_uri": "https://localhost:8080/",
          "height": 369
        },
        "id": "wIU1KacSxksW",
        "outputId": "ca536e93-9c24-4ead-ba30-7c3ab5f6e45d"
      },
      "execution_count": null,
      "outputs": [
        {
          "output_type": "execute_result",
          "data": {
            "text/plain": [
              "[Text(0.5, 0.8333333333333334, 'X[0] <= 0.368\\ngini = 0.497\\nsamples = 770\\nvalue = [354, 416]'),\n",
              " Text(0.25, 0.5, 'X[8] <= 0.007\\ngini = 0.496\\nsamples = 579\\nvalue = [314, 265]'),\n",
              " Text(0.125, 0.16666666666666666, 'gini = 0.488\\nsamples = 524\\nvalue = [303, 221]'),\n",
              " Text(0.375, 0.16666666666666666, 'gini = 0.32\\nsamples = 55\\nvalue = [11, 44]'),\n",
              " Text(0.75, 0.5, 'X[8] <= 0.001\\ngini = 0.331\\nsamples = 191\\nvalue = [40, 151]'),\n",
              " Text(0.625, 0.16666666666666666, 'gini = 0.424\\nsamples = 128\\nvalue = [39, 89]'),\n",
              " Text(0.875, 0.16666666666666666, 'gini = 0.031\\nsamples = 63\\nvalue = [1, 62]')]"
            ]
          },
          "metadata": {},
          "execution_count": 8
        },
        {
          "output_type": "display_data",
          "data": {
            "image/png": "[encoded data removed]",
            "text/plain": [
              "<Figure size 432x288 with 1 Axes>"
            ]
          },
          "metadata": {
            "needs_background": "light"
          }
        }
      ]
    },
    {
      "cell_type": "code",
      "source": [
        "# Neural Network\n",
        "from sklearn.neural_network import MLPClassifier\n",
        "\n",
        "# hepatitis\n",
        "nn = MLPClassifier(hidden_layer_sizes=(100,))\n",
        "nn.fit(x_train_hpt, y_train_hpt)\n",
        "y_pred_hpt = nn.predict(x_test_hpt)\n",
        "acc_hpt,recall_hpt,precision_hpt,Selectivity_hpt,N_predictive_v_hpt = accuracy(x_test_hpt, y_test_hpt, y_pred_hpt)\n",
        "print(f'NN accuracy for hepatitis is {acc_hpt*100:.1f}.')\n",
        "print(f'NN recall for hepatitis is {recall_hpt*100:.1f}.')\n",
        "print(f'NN precision for hepatitis is {precision_hpt*100:.1f}.')\n",
        "print(f'NN Selectivity for hepatitis is {Selectivity_hpt*100:.1f}.')\n",
        "print(f'NN Negative predictive value for hepatitis is {N_predictive_v_hpt*100:.1f}.')\n",
        "\n",
        "print()\n",
        "\n",
        "# diabetes\n",
        "nn2 = MLPClassifier(hidden_layer_sizes=(100,))\n",
        "nn2.fit(x_train_dbt, y_train_dbt)\n",
        "y_pred_dbt = nn2.predict(x_test_dbt)\n",
        "acc_dbt,recall_dbt,precision_dbt,Selectivity_dbt,N_predictive_v_dbt = accuracy(x_test_dbt, y_test_dbt, y_pred_dbt)\n",
        "print(f'NN accuracy for diabetes is {acc_dbt*100:.1f}.')\n",
        "print(f'NN recall for diabetes is {recall_dbt*100:.1f}.')\n",
        "print(f'NN precision for diabetes is {precision_dbt*100:.1f}.')\n",
        "print(f'NN Selectivity for diabetes is {Selectivity_dbt*100:.1f}.')\n",
        "print(f'NN Negative predictive value for diabetes is {N_predictive_v_dbt*100:.1f}.')\n"
      ],
      "metadata": {
        "colab": {
          "base_uri": "https://localhost:8080/"
        },
        "id": "xtRkHLBFjvTl",
        "outputId": "a84e2da4-8c6b-4f7d-c492-7b1f68ab6e27"
      },
      "execution_count": null,
      "outputs": [
        {
          "output_type": "stream",
          "name": "stderr",
          "text": [
            "/usr/local/lib/python3.7/dist-packages/sklearn/neural_network/_multilayer_perceptron.py:696: ConvergenceWarning: Stochastic Optimizer: Maximum iterations (200) reached and the optimization hasn't converged yet.\n",
            "  ConvergenceWarning,\n"
          ]
        },
        {
          "output_type": "stream",
          "name": "stdout",
          "text": [
            "NN accuracy for hepatitis is 81.4.\n",
            "NN recall for hepatitis is 100.0.\n",
            "NN precision for hepatitis is 81.4.\n",
            "NN Selectivity for hepatitis is 0.0.\n",
            "NN Negative predictive value for hepatitis is 0.0.\n",
            "\n",
            "NN accuracy for diabetes is 69.0.\n",
            "NN recall for diabetes is 62.1.\n",
            "NN precision for diabetes is 73.8.\n",
            "NN Selectivity for diabetes is 76.4.\n",
            "NN Negative predictive value for diabetes is 65.3.\n"
          ]
        },
        {
          "output_type": "stream",
          "name": "stderr",
          "text": [
            "/usr/local/lib/python3.7/dist-packages/sklearn/neural_network/_multilayer_perceptron.py:696: ConvergenceWarning: Stochastic Optimizer: Maximum iterations (200) reached and the optimization hasn't converged yet.\n",
            "  ConvergenceWarning,\n"
          ]
        }
      ]
    },
    {
      "cell_type": "code",
      "source": [
        "plt.scatter(knn_k, knn_acc_hpt, color=\"blue\")\n",
        "plt.plot(knn_k, knn_acc_hpt, color=\"blue\", label=\"Hepatitis\")\n",
        "\n",
        "plt.scatter(knn_k, knn_acc_dbt, color=\"green\")\n",
        "plt.plot(knn_k, knn_acc_dbt, color=\"green\", label=\"Diabetes\")\n",
        "\n",
        "plt.xlabel(\"K\")\n",
        "plt.ylabel(\"Accuracy\")\n",
        "plt.xticks(np.arange(1,16))\n",
        "plt.yticks(np.arange(0.55, 0.86, 0.01))\n",
        "plt.title(\"KNN Accuracy vs. K\")\n",
        "plt.legend()"
      ],
      "metadata": {
        "colab": {
          "base_uri": "https://localhost:8080/",
          "height": 312
        },
        "id": "ghDWIscLnz9r",
        "outputId": "627b9389-941e-4000-c0c5-6cd40d1812d1"
      },
      "execution_count": null,
      "outputs": [
        {
          "output_type": "execute_result",
          "data": {
            "text/plain": [
              "<matplotlib.legend.Legend at 0x7fdd09a78f10>"
            ]
          },
          "metadata": {},
          "execution_count": 10
        },
        {
          "output_type": "display_data",
          "data": {
            "image/png": "[encoded data removed]",
            "text/plain": [
              "<Figure size 432x288 with 1 Axes>"
            ]
          },
          "metadata": {
            "needs_background": "light"
          }
        }
      ]
    },
    {
      "cell_type": "code",
      "source": [
        "plt.scatter(dt_depth, dt_acc_hpt, color=\"red\")\n",
        "plt.plot(dt_depth, dt_acc_hpt, color=\"red\", label=\"Hepatitis\")\n",
        "\n",
        "plt.scatter(dt_depth, dt_acc_dbt, color=\"orange\")\n",
        "plt.plot(dt_depth, dt_acc_dbt, color=\"orange\", label=\"Diabetes\")\n",
        "\n",
        "\n",
        "plt.xlabel(\"max_depth\")\n",
        "plt.ylabel(\"Accuracy\")\n",
        "plt.xticks(np.arange(1,16))\n",
        "plt.yticks(np.arange(0.55, 0.86, 0.01))\n",
        "plt.title(\"Decision Tree Accuracy vs. max_depth\")\n",
        "plt.legend()\n",
        "\n",
        "print(np.max(dt_acc_dbt))"
      ],
      "metadata": {
        "colab": {
          "base_uri": "https://localhost:8080/",
          "height": 313
        },
        "id": "O8N3dTl2qrRG",
        "outputId": "7990325b-8f08-4c5a-90f9-eb9466287768"
      },
      "execution_count": null,
      "outputs": [
        {
          "output_type": "stream",
          "name": "stdout",
          "text": [
            "0.6551724137931034\n"
          ]
        },
        {
          "output_type": "display_data",
          "data": {
            "image/png": "[encoded data removed]",
            "text/plain": [
              "<Figure size 432x288 with 1 Axes>"
            ]
          },
          "metadata": {
            "needs_background": "light"
          }
        }
      ]
    }
  ]
}
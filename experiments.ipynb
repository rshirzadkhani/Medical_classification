{
 "cells": [
  {
   "cell_type": "code",
   "execution_count": 4,
   "metadata": {},
   "outputs": [],
   "source": [
    "from data_preprocessing import *\n",
    "from main import xgb_classifier\n",
    "from sklearn.model_selection import GridSearchCV\n",
    "import xgboost as xgb"
   ]
  },
  {
   "cell_type": "code",
   "execution_count": 5,
   "metadata": {},
   "outputs": [],
   "source": [
    "param_grid = {\n",
    "    \"max_depth\": [1, 3, 5, 7, 10],\n",
    "    \"learning_rate\": [0.1, 0.01, 0.05],\n",
    "    \"gamma\": [0.25, 0.5, 1],\n",
    "    \"reg_lambda\": [0.5, 1, 1.5, 2, 2.5],\n",
    "    \"scale_pos_weight\": [3, 4, 5],\n",
    "    \"subsample\": [0.4, 0.8, 1],\n",
    "    \"colsample_bytree\": [0.1, 0.5, 0.7],\n",
    "    }"
   ]
  },
  {
   "cell_type": "code",
   "execution_count": 6,
   "metadata": {},
   "outputs": [],
   "source": [
    "def find_best_params(X, y, param_grid):\n",
    "    xgb_cl = xgb.XGBClassifier()\n",
    "    grid_cv = GridSearchCV(xgb_cl, param_grid, n_jobs=-1, cv=3, scoring=\"accuracy\")\n",
    "    grid_cv.fit(X, y)\n",
    "    print(grid_cv.best_score_)\n",
    "    return grid_cv.best_params_\n"
   ]
  },
  {
   "cell_type": "code",
   "execution_count": 1,
   "metadata": {},
   "outputs": [],
   "source": [
    "def run(data, label_col):\n",
    "    raw_data = load_datasets(data)\n",
    "    processing = data_preprocessing(raw_data)\n",
    "    X_train, X_test, y_train, y_test = processing.replace_missing_values().split_to_X_and_y(label_col).transform_X_and_y().split_train_test()\n",
    "    \n",
    "    best_params = find_best_params(X_train, y_train, param_grid)\n",
    "\n",
    "    xgb_cl = xgb.XGBClassifier(**best_params)\n",
    "    classifier = xgb_classifier(xgb_cl)\n",
    "    classifier.train(X_train, y_train)\n",
    "    preds_test = classifier.test(X_test)\n",
    "    preds_train = classifier.test(X_train)\n",
    "    \n",
    "    print(\"train acc for \", data, \":\",classifier.accuracy(y_train, preds_train))\n",
    "    print(\"test acc for \", data, \":\", classifier.accuracy(y_test, preds_test))"
   ]
  },
  {
   "cell_type": "code",
   "execution_count": 7,
   "metadata": {},
   "outputs": [
    {
     "name": "stderr",
     "output_type": "stream",
     "text": [
      "/home/rshirzad/anaconda3/lib/python3.9/site-packages/sklearn/preprocessing/_encoders.py:808: FutureWarning: `sparse` was renamed to `sparse_output` in version 1.2 and will be removed in 1.4. `sparse_output` is ignored unless you leave `sparse` to its default value.\n",
      "  warnings.warn(\n"
     ]
    },
    {
     "name": "stdout",
     "output_type": "stream",
     "text": [
      "0.8630229419703105\n",
      "train acc for  hepatitis : 0.9310344827586207\n",
      "test acc for  hepatitis : 0.7692307692307693\n"
     ]
    }
   ],
   "source": [
    "# run for hepatitis dataset:\n",
    "run(\"hepatitis\", \"0\")"
   ]
  },
  {
   "cell_type": "code",
   "execution_count": 8,
   "metadata": {},
   "outputs": [
    {
     "name": "stdout",
     "output_type": "stream",
     "text": [
      "0.681358078461737\n",
      "train acc for  diabetes : 1.0\n",
      "test acc for  diabetes : 0.65625\n"
     ]
    }
   ],
   "source": [
    "# run for diabetes dataset:\n",
    "run(\"diabetes\", \"Class\")"
   ]
  },
  {
   "cell_type": "code",
   "execution_count": null,
   "metadata": {},
   "outputs": [],
   "source": []
  }
 ],
 "metadata": {
  "kernelspec": {
   "display_name": "base",
   "language": "python",
   "name": "python3"
  },
  "language_info": {
   "codemirror_mode": {
    "name": "ipython",
    "version": 3
   },
   "file_extension": ".py",
   "mimetype": "text/x-python",
   "name": "python",
   "nbconvert_exporter": "python",
   "pygments_lexer": "ipython3",
   "version": "3.9.12"
  },
  "orig_nbformat": 4
 },
 "nbformat": 4,
 "nbformat_minor": 2
}
